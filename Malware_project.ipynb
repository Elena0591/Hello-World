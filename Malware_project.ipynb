{
  "nbformat": 4,
  "nbformat_minor": 0,
  "metadata": {
    "colab": {
      "name": "Malware_project",
      "provenance": [],
      "collapsed_sections": [
        "7P42Gge4jM5W",
        "e6xYE2h5nF_1",
        "zFQMMExVnNDb",
        "Kvmttz8J7X25",
        "5Rdom5qA7qLf",
        "-oHsYyoI-_Zj"
      ],
      "authorship_tag": "ABX9TyOL9uRwXEGxvic8V1hjc1m5",
      "include_colab_link": true
    },
    "kernelspec": {
      "name": "python3",
      "display_name": "Python 3"
    },
    "language_info": {
      "name": "python"
    }
  },
  "cells": [
    {
      "cell_type": "markdown",
      "metadata": {
        "id": "view-in-github",
        "colab_type": "text"
      },
      "source": [
        "<a href=\"https://colab.research.google.com/github/Elena0591/Hello-World/blob/main/Malware_project.ipynb\" target=\"_parent\"><img src=\"https://colab.research.google.com/assets/colab-badge.svg\" alt=\"Open In Colab\"/></a>"
      ]
    },
    {
      "cell_type": "markdown",
      "source": [
        "###Importación de librerias "
      ],
      "metadata": {
        "id": "GDobk2P0be4B"
      }
    },
    {
      "cell_type": "code",
      "execution_count": null,
      "metadata": {
        "id": "IWm1kvNKbPqi"
      },
      "outputs": [],
      "source": [
        "import sys\n",
        "import os\n",
        "\n",
        "import numpy as np\n",
        "import pandas as pd\n",
        "\n",
        "import matplotlib.pyplot as plt\n",
        "import seaborn as sns\n",
        "\n",
        "plt.style.use('ggplot')\n",
        "\n",
        "import random\n",
        "import json\n",
        "from pandas.io.json import json_normalize\n",
        "from scipy import stats\n",
        "from datetime import datetime\n",
        "\n",
        "from sklearn import model_selection\n",
        "import xgboost as xgb \n",
        "\n",
        "from sklearn import preprocessing"
      ]
    },
    {
      "cell_type": "code",
      "source": [
        "from google.colab import drive\n",
        "drive.mount('/content/drive')"
      ],
      "metadata": {
        "colab": {
          "base_uri": "https://localhost:8080/",
          "height": 328
        },
        "id": "o-L2wUjKbvrA",
        "outputId": "3e57d5f2-29cf-4a33-e9a3-330a471a01a4"
      },
      "execution_count": null,
      "outputs": [
        {
          "output_type": "error",
          "ename": "MessageError",
          "evalue": "ignored",
          "traceback": [
            "\u001b[0;31m---------------------------------------------------------------------------\u001b[0m",
            "\u001b[0;31mMessageError\u001b[0m                              Traceback (most recent call last)",
            "\u001b[0;32m<ipython-input-2-d5df0069828e>\u001b[0m in \u001b[0;36m<module>\u001b[0;34m()\u001b[0m\n\u001b[1;32m      1\u001b[0m \u001b[0;32mfrom\u001b[0m \u001b[0mgoogle\u001b[0m\u001b[0;34m.\u001b[0m\u001b[0mcolab\u001b[0m \u001b[0;32mimport\u001b[0m \u001b[0mdrive\u001b[0m\u001b[0;34m\u001b[0m\u001b[0;34m\u001b[0m\u001b[0m\n\u001b[0;32m----> 2\u001b[0;31m \u001b[0mdrive\u001b[0m\u001b[0;34m.\u001b[0m\u001b[0mmount\u001b[0m\u001b[0;34m(\u001b[0m\u001b[0;34m'/content/drive'\u001b[0m\u001b[0;34m)\u001b[0m\u001b[0;34m\u001b[0m\u001b[0;34m\u001b[0m\u001b[0m\n\u001b[0m",
            "\u001b[0;32m/usr/local/lib/python3.7/dist-packages/google/colab/drive.py\u001b[0m in \u001b[0;36mmount\u001b[0;34m(mountpoint, force_remount, timeout_ms, use_metadata_server)\u001b[0m\n\u001b[1;32m    111\u001b[0m       \u001b[0mtimeout_ms\u001b[0m\u001b[0;34m=\u001b[0m\u001b[0mtimeout_ms\u001b[0m\u001b[0;34m,\u001b[0m\u001b[0;34m\u001b[0m\u001b[0;34m\u001b[0m\u001b[0m\n\u001b[1;32m    112\u001b[0m       \u001b[0muse_metadata_server\u001b[0m\u001b[0;34m=\u001b[0m\u001b[0muse_metadata_server\u001b[0m\u001b[0;34m,\u001b[0m\u001b[0;34m\u001b[0m\u001b[0;34m\u001b[0m\u001b[0m\n\u001b[0;32m--> 113\u001b[0;31m       ephemeral=ephemeral)\n\u001b[0m\u001b[1;32m    114\u001b[0m \u001b[0;34m\u001b[0m\u001b[0m\n\u001b[1;32m    115\u001b[0m \u001b[0;34m\u001b[0m\u001b[0m\n",
            "\u001b[0;32m/usr/local/lib/python3.7/dist-packages/google/colab/drive.py\u001b[0m in \u001b[0;36m_mount\u001b[0;34m(mountpoint, force_remount, timeout_ms, use_metadata_server, ephemeral)\u001b[0m\n\u001b[1;32m    134\u001b[0m   \u001b[0;32mif\u001b[0m \u001b[0mephemeral\u001b[0m\u001b[0;34m:\u001b[0m\u001b[0;34m\u001b[0m\u001b[0;34m\u001b[0m\u001b[0m\n\u001b[1;32m    135\u001b[0m     _message.blocking_request(\n\u001b[0;32m--> 136\u001b[0;31m         'request_auth', request={'authType': 'dfs_ephemeral'}, timeout_sec=None)\n\u001b[0m\u001b[1;32m    137\u001b[0m \u001b[0;34m\u001b[0m\u001b[0m\n\u001b[1;32m    138\u001b[0m   \u001b[0mmountpoint\u001b[0m \u001b[0;34m=\u001b[0m \u001b[0m_os\u001b[0m\u001b[0;34m.\u001b[0m\u001b[0mpath\u001b[0m\u001b[0;34m.\u001b[0m\u001b[0mexpanduser\u001b[0m\u001b[0;34m(\u001b[0m\u001b[0mmountpoint\u001b[0m\u001b[0;34m)\u001b[0m\u001b[0;34m\u001b[0m\u001b[0;34m\u001b[0m\u001b[0m\n",
            "\u001b[0;32m/usr/local/lib/python3.7/dist-packages/google/colab/_message.py\u001b[0m in \u001b[0;36mblocking_request\u001b[0;34m(request_type, request, timeout_sec, parent)\u001b[0m\n\u001b[1;32m    173\u001b[0m   request_id = send_request(\n\u001b[1;32m    174\u001b[0m       request_type, request, parent=parent, expect_reply=True)\n\u001b[0;32m--> 175\u001b[0;31m   \u001b[0;32mreturn\u001b[0m \u001b[0mread_reply_from_input\u001b[0m\u001b[0;34m(\u001b[0m\u001b[0mrequest_id\u001b[0m\u001b[0;34m,\u001b[0m \u001b[0mtimeout_sec\u001b[0m\u001b[0;34m)\u001b[0m\u001b[0;34m\u001b[0m\u001b[0;34m\u001b[0m\u001b[0m\n\u001b[0m",
            "\u001b[0;32m/usr/local/lib/python3.7/dist-packages/google/colab/_message.py\u001b[0m in \u001b[0;36mread_reply_from_input\u001b[0;34m(message_id, timeout_sec)\u001b[0m\n\u001b[1;32m    104\u001b[0m         reply.get('colab_msg_id') == message_id):\n\u001b[1;32m    105\u001b[0m       \u001b[0;32mif\u001b[0m \u001b[0;34m'error'\u001b[0m \u001b[0;32min\u001b[0m \u001b[0mreply\u001b[0m\u001b[0;34m:\u001b[0m\u001b[0;34m\u001b[0m\u001b[0;34m\u001b[0m\u001b[0m\n\u001b[0;32m--> 106\u001b[0;31m         \u001b[0;32mraise\u001b[0m \u001b[0mMessageError\u001b[0m\u001b[0;34m(\u001b[0m\u001b[0mreply\u001b[0m\u001b[0;34m[\u001b[0m\u001b[0;34m'error'\u001b[0m\u001b[0;34m]\u001b[0m\u001b[0;34m)\u001b[0m\u001b[0;34m\u001b[0m\u001b[0;34m\u001b[0m\u001b[0m\n\u001b[0m\u001b[1;32m    107\u001b[0m       \u001b[0;32mreturn\u001b[0m \u001b[0mreply\u001b[0m\u001b[0;34m.\u001b[0m\u001b[0mget\u001b[0m\u001b[0;34m(\u001b[0m\u001b[0;34m'data'\u001b[0m\u001b[0;34m,\u001b[0m \u001b[0;32mNone\u001b[0m\u001b[0;34m)\u001b[0m\u001b[0;34m\u001b[0m\u001b[0;34m\u001b[0m\u001b[0m\n\u001b[1;32m    108\u001b[0m \u001b[0;34m\u001b[0m\u001b[0m\n",
            "\u001b[0;31mMessageError\u001b[0m: Error: credential propagation was unsuccessful"
          ]
        }
      ]
    },
    {
      "cell_type": "markdown",
      "source": [
        "###Importación del dataset"
      ],
      "metadata": {
        "id": "rVPV8f4-b2iX"
      }
    },
    {
      "cell_type": "code",
      "source": [
        "df = pd.read_csv(\"/content/drive/MyDrive/DATA SCIENCE/Machine Learning/Lenguaje supervisado/sample_mmp.csv\", sep = \";\")"
      ],
      "metadata": {
        "id": "I28RKmQ4b6vZ"
      },
      "execution_count": null,
      "outputs": []
    },
    {
      "cell_type": "markdown",
      "source": [
        "###EDA"
      ],
      "metadata": {
        "id": "HIsdEkdQcB8x"
      }
    },
    {
      "cell_type": "code",
      "source": [
        "df.info(verbose = False )"
      ],
      "metadata": {
        "id": "zXIfp3GtcFMF"
      },
      "execution_count": null,
      "outputs": []
    },
    {
      "cell_type": "code",
      "source": [
        "df.info()"
      ],
      "metadata": {
        "id": "Eu68M5jvcQNU"
      },
      "execution_count": null,
      "outputs": []
    },
    {
      "cell_type": "code",
      "source": [
        "df.head(5)"
      ],
      "metadata": {
        "id": "UwZzrnP9cVfv"
      },
      "execution_count": null,
      "outputs": []
    },
    {
      "cell_type": "code",
      "source": [
        "TARGET = 'HasDetections'"
      ],
      "metadata": {
        "id": "f2Wts8JecX8w"
      },
      "execution_count": null,
      "outputs": []
    },
    {
      "cell_type": "code",
      "source": [
        "df.drop([\"Unnamed: 0\"], axis=1, inplace=True)"
      ],
      "metadata": {
        "id": "pxkMXKCQcrM5"
      },
      "execution_count": null,
      "outputs": []
    },
    {
      "cell_type": "code",
      "source": [
        "df.set_index('MachineIdentifier', inplace = True)"
      ],
      "metadata": {
        "id": "5mQtTPCZcweX"
      },
      "execution_count": null,
      "outputs": []
    },
    {
      "cell_type": "code",
      "source": [
        "filtro_id = [col1 for col1 in df if col1.find('Identifier')>=0]\n",
        "filtro_id"
      ],
      "metadata": {
        "id": "LJeE0pZDdOLX"
      },
      "execution_count": null,
      "outputs": []
    },
    {
      "cell_type": "code",
      "source": [
        "df.drop([ 'CityIdentifier', 'GeoNameIdentifier','LocaleEnglishNameIdentifier', 'IeVerIdentifier','Census_ProcessorManufacturerIdentifier','Census_ProcessorModelIdentifier', 'Census_OSInstallLanguageIdentifier', 'Census_FirmwareManufacturerIdentifier', 'Census_FirmwareVersionIdentifier'], axis=1, inplace=True)"
      ],
      "metadata": {
        "id": "Ll9zESBoeoVl"
      },
      "execution_count": null,
      "outputs": []
    },
    {
      "cell_type": "code",
      "source": [
        "df.info(verbose = False)"
      ],
      "metadata": {
        "id": "3KaJ6nGpfVcO"
      },
      "execution_count": null,
      "outputs": []
    },
    {
      "cell_type": "markdown",
      "source": [
        "Deixo ID que crec que ens poden donar informació, la resta els elimino pq no aporten res al model. "
      ],
      "metadata": {
        "id": "YhhROwc-fW2P"
      }
    },
    {
      "cell_type": "code",
      "source": [
        "df.describe(include = np.number).T"
      ],
      "metadata": {
        "id": "MkWhARf7fowl"
      },
      "execution_count": null,
      "outputs": []
    },
    {
      "cell_type": "code",
      "source": [
        "df.describe(exclude = np.number).T"
      ],
      "metadata": {
        "id": "IkBjXzffgMl8"
      },
      "execution_count": null,
      "outputs": []
    },
    {
      "cell_type": "code",
      "source": [
        "df['PuaMode'].isnull().sum() * 100/500000"
      ],
      "metadata": {
        "id": "ltJA50BlgY0v"
      },
      "execution_count": null,
      "outputs": []
    },
    {
      "cell_type": "code",
      "source": [
        "df['PuaMode'].value_counts()"
      ],
      "metadata": {
        "id": "Jx1TDhMOgo-E"
      },
      "execution_count": null,
      "outputs": []
    },
    {
      "cell_type": "code",
      "source": [
        "df.drop([\"PuaMode\"], axis=1, inplace=True)"
      ],
      "metadata": {
        "id": "oRzBxfsugT-V"
      },
      "execution_count": null,
      "outputs": []
    },
    {
      "cell_type": "markdown",
      "source": [
        "Elimino la variable PuaMode pq la columna unique és = 1 i no ens aporta res al model, a part de que té un 99% de nuls. "
      ],
      "metadata": {
        "id": "BpBxLQiug3Ns"
      }
    },
    {
      "cell_type": "code",
      "source": [
        "df.info(verbose = False)"
      ],
      "metadata": {
        "id": "0KqRCWuIg-7s"
      },
      "execution_count": null,
      "outputs": []
    },
    {
      "cell_type": "code",
      "source": [
        "description = df.describe(include = 'all').T"
      ],
      "metadata": {
        "id": "5T-uJc7LijDw"
      },
      "execution_count": null,
      "outputs": []
    },
    {
      "cell_type": "code",
      "source": [
        "description.to_excel('df_description.xlsx') #-->paso a a excel per tenir un control de les variables "
      ],
      "metadata": {
        "id": "cDibvURSiu1h"
      },
      "execution_count": null,
      "outputs": []
    },
    {
      "cell_type": "markdown",
      "source": [
        "###Analisis del TARGET"
      ],
      "metadata": {
        "id": "7P42Gge4jM5W"
      }
    },
    {
      "cell_type": "code",
      "source": [
        "df[TARGET].describe()"
      ],
      "metadata": {
        "id": "k7kbr3A1j4vW"
      },
      "execution_count": null,
      "outputs": []
    },
    {
      "cell_type": "code",
      "source": [
        "df[TARGET].fillna(0.0, inplace=True)"
      ],
      "metadata": {
        "id": "B1pgIteomhkB"
      },
      "execution_count": null,
      "outputs": []
    },
    {
      "cell_type": "code",
      "source": [
        "df[TARGET].head()"
      ],
      "metadata": {
        "id": "H0tydvNDj-qy"
      },
      "execution_count": null,
      "outputs": []
    },
    {
      "cell_type": "markdown",
      "source": [
        "Veiem que el TARGET está balancejat i hi ha casi el 50% de maquines amb malware i un altre 50% sense malware\n"
      ],
      "metadata": {
        "id": "Fmp7lq82lCBn"
      }
    },
    {
      "cell_type": "code",
      "source": [
        "sns.countplot(data=df, x='HasDetections')"
      ],
      "metadata": {
        "id": "H5Uy5zwKllY6"
      },
      "execution_count": null,
      "outputs": []
    },
    {
      "cell_type": "code",
      "source": [
        "df['HasDetections'].value_counts(dropna=False)"
      ],
      "metadata": {
        "id": "4_VZMnmglvTH"
      },
      "execution_count": null,
      "outputs": []
    },
    {
      "cell_type": "markdown",
      "source": [
        "###Analizar variables categoricas"
      ],
      "metadata": {
        "id": "e6xYE2h5nF_1"
      }
    },
    {
      "cell_type": "markdown",
      "source": [
        "###Product Name"
      ],
      "metadata": {
        "id": "zFQMMExVnNDb"
      }
    },
    {
      "cell_type": "code",
      "source": [
        "df['ProductName'].describe()"
      ],
      "metadata": {
        "id": "57TvxwlSnUqL"
      },
      "execution_count": null,
      "outputs": []
    },
    {
      "cell_type": "markdown",
      "source": [
        "La mayoria de maquinas tienen win8defender."
      ],
      "metadata": {
        "id": "EqOpzcnWnilI"
      }
    },
    {
      "cell_type": "code",
      "source": [
        "df['ProductName'].value_counts()"
      ],
      "metadata": {
        "id": "0v-cncvgnvIE"
      },
      "execution_count": null,
      "outputs": []
    },
    {
      "cell_type": "code",
      "source": [
        "df['Platform'].describe()"
      ],
      "metadata": {
        "id": "E9AFwshtn2mg"
      },
      "execution_count": null,
      "outputs": []
    },
    {
      "cell_type": "code",
      "source": [
        "df['Platform'].value_counts()"
      ],
      "metadata": {
        "id": "6bsGzHU_ojX6"
      },
      "execution_count": null,
      "outputs": []
    },
    {
      "cell_type": "code",
      "source": [
        "df['Census_ChassisTypeName'].describe()"
      ],
      "metadata": {
        "id": "Wsk3nElootIl"
      },
      "execution_count": null,
      "outputs": []
    },
    {
      "cell_type": "code",
      "source": [
        "df['Census_ChassisTypeName'].value_counts()"
      ],
      "metadata": {
        "id": "sTjyAvEDoxaI"
      },
      "execution_count": null,
      "outputs": []
    },
    {
      "cell_type": "code",
      "source": [
        "top_chassis_list = df['Census_ChassisTypeName'].value_counts().head(5).index.to_list()"
      ],
      "metadata": {
        "id": "zN9xOOPDo9nO"
      },
      "execution_count": null,
      "outputs": []
    },
    {
      "cell_type": "code",
      "source": [
        "top_chassis_list.append('Others')"
      ],
      "metadata": {
        "id": "v78AfZPApa3v"
      },
      "execution_count": null,
      "outputs": []
    },
    {
      "cell_type": "code",
      "source": [
        "df['Census_ChassisTypeName'] = pd.Categorical(df['Census_ChassisTypeName'], categories = top_chassis_list )"
      ],
      "metadata": {
        "id": "ulu1PhuTph_6"
      },
      "execution_count": null,
      "outputs": []
    },
    {
      "cell_type": "code",
      "source": [
        "df['Census_ChassisTypeName'].value_counts(dropna = False)"
      ],
      "metadata": {
        "id": "SeIMChalqL4G"
      },
      "execution_count": null,
      "outputs": []
    },
    {
      "cell_type": "code",
      "source": [
        "df['Census_ChassisTypeName'].fillna('Others', inplace = True)"
      ],
      "metadata": {
        "id": "Q29UUCiTqYso"
      },
      "execution_count": null,
      "outputs": []
    },
    {
      "cell_type": "code",
      "source": [
        "df['Census_ChassisTypeName'].value_counts(normalize = True)"
      ],
      "metadata": {
        "id": "UzjfhfK7qhbQ"
      },
      "execution_count": null,
      "outputs": []
    },
    {
      "cell_type": "code",
      "source": [
        "df.pivot_table (index = 'ProductName', values = TARGET, aggfunc = [len, np.mean])"
      ],
      "metadata": {
        "id": "kMXSDvPMq--T"
      },
      "execution_count": null,
      "outputs": []
    },
    {
      "cell_type": "code",
      "source": [
        "df.pivot_table (index = 'Platform', values = TARGET, aggfunc = [len, np.mean])"
      ],
      "metadata": {
        "id": "raBb5v4argHS"
      },
      "execution_count": null,
      "outputs": []
    },
    {
      "cell_type": "code",
      "source": [
        "df['Census_InternalBatteryType'].describe()"
      ],
      "metadata": {
        "id": "9et0vGPcrqTe"
      },
      "execution_count": null,
      "outputs": []
    },
    {
      "cell_type": "code",
      "source": [
        "df['Census_InternalBatteryType'].value_counts(dropna = False)"
      ],
      "metadata": {
        "id": "Ca1XQQYlsfNf"
      },
      "execution_count": null,
      "outputs": []
    },
    {
      "cell_type": "code",
      "source": [
        "top_battery_list = df['Census_InternalBatteryType'].value_counts().head(5).index.to_list()"
      ],
      "metadata": {
        "id": "cibQHkkZsqVg"
      },
      "execution_count": null,
      "outputs": []
    },
    {
      "cell_type": "code",
      "source": [
        "top_battery_list.append('Others')"
      ],
      "metadata": {
        "id": "Dxw4tiPpsx0c"
      },
      "execution_count": null,
      "outputs": []
    },
    {
      "cell_type": "code",
      "source": [
        "df['Census_InternalBatteryType'] = pd.Categorical(df['Census_InternalBatteryType'], categories = top_battery_list )"
      ],
      "metadata": {
        "id": "RJr0THsrs4og"
      },
      "execution_count": null,
      "outputs": []
    },
    {
      "cell_type": "code",
      "source": [
        "df['Census_InternalBatteryType'].value_counts(dropna = False)"
      ],
      "metadata": {
        "id": "pzv4Sn5ZtAUe"
      },
      "execution_count": null,
      "outputs": []
    },
    {
      "cell_type": "code",
      "source": [
        "df['Census_InternalBatteryType'].fillna('Others', inplace = True)"
      ],
      "metadata": {
        "id": "NLTAoeUutLzr"
      },
      "execution_count": null,
      "outputs": []
    },
    {
      "cell_type": "code",
      "source": [
        "df['Census_InternalBatteryType'].value_counts(dropna = False)"
      ],
      "metadata": {
        "id": "sxAPhTRrtN7O"
      },
      "execution_count": null,
      "outputs": []
    },
    {
      "cell_type": "code",
      "source": [
        "df['Census_OSEdition'].describe()"
      ],
      "metadata": {
        "id": "DdTgJ-cIugjz"
      },
      "execution_count": null,
      "outputs": []
    },
    {
      "cell_type": "code",
      "source": [
        "df['Census_OSEdition'].value_counts(dropna = False)"
      ],
      "metadata": {
        "id": "G09pFJQ0v3ET"
      },
      "execution_count": null,
      "outputs": []
    },
    {
      "cell_type": "code",
      "source": [
        "top_edition_list = df['Census_OSEdition'].value_counts().head(5).index.to_list()"
      ],
      "metadata": {
        "id": "SKuZvlx1v3A1"
      },
      "execution_count": null,
      "outputs": []
    },
    {
      "cell_type": "code",
      "source": [
        "top_edition_list.append('Others')"
      ],
      "metadata": {
        "id": "ICc71-YTv29y"
      },
      "execution_count": null,
      "outputs": []
    },
    {
      "cell_type": "code",
      "source": [
        "df['Census_OSEdition'] = pd.Categorical(df['Census_OSEdition'], categories = top_edition_list )"
      ],
      "metadata": {
        "id": "eEKxi3b3v26J"
      },
      "execution_count": null,
      "outputs": []
    },
    {
      "cell_type": "code",
      "source": [
        "df['Census_OSEdition'].value_counts(dropna = False)"
      ],
      "metadata": {
        "id": "3PgE3Ceov23B"
      },
      "execution_count": null,
      "outputs": []
    },
    {
      "cell_type": "code",
      "source": [
        "df['Census_OSEdition'].fillna('Others', inplace = True)"
      ],
      "metadata": {
        "id": "EV840RU1v2zq"
      },
      "execution_count": null,
      "outputs": []
    },
    {
      "cell_type": "code",
      "source": [
        "df['Census_OSEdition'].value_counts(dropna = False)"
      ],
      "metadata": {
        "id": "d123lOAKv2uk"
      },
      "execution_count": null,
      "outputs": []
    },
    {
      "cell_type": "code",
      "source": [
        "def plot_cat_values(dataframe, column, target_column):\n",
        "    plt.figure(figsize=(15,8))\n",
        "    #en una única grafica de 2x1 en el primer slot\n",
        "    ax1 = plt.subplot(2,1,1)\n",
        "    ## Graficamos el conteo de cada uno de los valores\n",
        "    ax1 = sns.countplot(\n",
        "        dataframe[column],\n",
        "        order = list(dataframe[column].unique())\n",
        "    )\n",
        "    ax2 = plt.subplot(2,1,2) # share ax1 para que me pinte el axis en el mismo orden\n",
        "    ## Graficamos la distribución del target sólo para aquellos casos con target > 0 (para que no se chafe el BP) \n",
        "    ax2 = sns.boxenplot(\n",
        "        data = dataframe[dataframe[target_column] > 0], \n",
        "        x = column,\n",
        "        y = target_column,\n",
        "        order = list(dataframe[column].unique())\n",
        "    )\n",
        "    plt.show()"
      ],
      "metadata": {
        "id": "QYe2GKSWv2qv"
      },
      "execution_count": null,
      "outputs": []
    },
    {
      "cell_type": "code",
      "source": [
        "plot_cat_values(df, 'Census_ChassisTypeName', TARGET)"
      ],
      "metadata": {
        "id": "KFKs8HMKx-9Q"
      },
      "execution_count": null,
      "outputs": []
    },
    {
      "cell_type": "code",
      "source": [
        "plot_cat_values(df, 'Census_InternalBatteryType', TARGET)"
      ],
      "metadata": {
        "id": "i-_5-nGTyIQo"
      },
      "execution_count": null,
      "outputs": []
    },
    {
      "cell_type": "code",
      "source": [
        "plot_cat_values(df, 'Census_OSEdition', TARGET)"
      ],
      "metadata": {
        "id": "XYY2yt-VyIMv"
      },
      "execution_count": null,
      "outputs": []
    },
    {
      "cell_type": "code",
      "source": [
        ""
      ],
      "metadata": {
        "id": "HBuAtxtqzwYh"
      },
      "execution_count": null,
      "outputs": []
    },
    {
      "cell_type": "code",
      "source": [
        "plot_cat_values(df, 'Platform', TARGET)"
      ],
      "metadata": {
        "id": "W_joisoVyIJR"
      },
      "execution_count": null,
      "outputs": []
    },
    {
      "cell_type": "code",
      "source": [
        "plot_cat_values(df, 'ProductName', TARGET)"
      ],
      "metadata": {
        "id": "30FJR-YJyIFS"
      },
      "execution_count": null,
      "outputs": []
    },
    {
      "cell_type": "code",
      "source": [
        "df['Census_OSEdition'].value_counts()"
      ],
      "metadata": {
        "id": "oky8gp7fyH8r"
      },
      "execution_count": null,
      "outputs": []
    },
    {
      "cell_type": "code",
      "source": [
        "df['Census_OSSkuName'].value_counts().head(5)"
      ],
      "metadata": {
        "id": "1m_NsLlkyHtC"
      },
      "execution_count": null,
      "outputs": []
    },
    {
      "cell_type": "code",
      "source": [
        "pd.crosstab(df[\"Census_OSSkuName\"], df[\"Census_OSEdition\"])"
      ],
      "metadata": {
        "id": "P1hMCeGc66K1"
      },
      "execution_count": null,
      "outputs": []
    },
    {
      "cell_type": "code",
      "source": [
        "df.drop([\"Census_OSSkuName\"], axis=1, inplace=True)"
      ],
      "metadata": {
        "id": "G2P3fsxa2TOp"
      },
      "execution_count": null,
      "outputs": []
    },
    {
      "cell_type": "code",
      "source": [
        ""
      ],
      "metadata": {
        "id": "dzvf93jJAnfw"
      },
      "execution_count": null,
      "outputs": []
    },
    {
      "cell_type": "code",
      "source": [
        "df['Census_OSBranch'].value_counts()"
      ],
      "metadata": {
        "id": "VIORJJ9F3PyW"
      },
      "execution_count": null,
      "outputs": []
    },
    {
      "cell_type": "markdown",
      "source": [
        "Elimino la variable Census_OSSkuName pq explica el mateix que la Census_OSEdition. "
      ],
      "metadata": {
        "id": "T4_Pv2852SQl"
      }
    },
    {
      "cell_type": "code",
      "source": [
        "def setOthers(dataframe, column, num_values):\n",
        "    top_categories = dataframe[column].value_counts().head(num_values)\n",
        "    top_categories_list = top_categories.index.to_list()\n",
        "    top_categories_list.append('Others')\n",
        "    dataframe[column] = pd.Categorical(dataframe[column], categories=top_categories_list)\n",
        "    return dataframe[column].fillna('Others')"
      ],
      "metadata": {
        "id": "nWp3jEvA2laZ"
      },
      "execution_count": null,
      "outputs": []
    },
    {
      "cell_type": "code",
      "source": [
        "df['Census_OSBranch'] = setOthers(df, 'Census_OSBranch', 6)"
      ],
      "metadata": {
        "id": "9P2CXA8p3cBe"
      },
      "execution_count": null,
      "outputs": []
    },
    {
      "cell_type": "code",
      "source": [
        "df['SmartScreen'].value_counts()"
      ],
      "metadata": {
        "id": "hhz6_HSU40OU"
      },
      "execution_count": null,
      "outputs": []
    },
    {
      "cell_type": "code",
      "source": [
        "df['SmartScreen'] = setOthers(df, 'SmartScreen', 6)"
      ],
      "metadata": {
        "id": "MW65ljQo5HtE"
      },
      "execution_count": null,
      "outputs": []
    },
    {
      "cell_type": "code",
      "source": [
        "df['Census_MDC2FormFactor'].value_counts().head(5)"
      ],
      "metadata": {
        "id": "MA4r4bW35Phs"
      },
      "execution_count": null,
      "outputs": []
    },
    {
      "cell_type": "code",
      "source": [
        "df['Census_MDC2FormFactor'] = setOthers(df, 'Census_MDC2FormFactor', 6)"
      ],
      "metadata": {
        "id": "zxmPLmT95yIq"
      },
      "execution_count": null,
      "outputs": []
    },
    {
      "cell_type": "code",
      "source": [
        "df['Census_ChassisTypeName'].value_counts()"
      ],
      "metadata": {
        "id": "9COnI8Af5hHD"
      },
      "execution_count": null,
      "outputs": []
    },
    {
      "cell_type": "code",
      "source": [
        "df['Census_ActivationChannel'].value_counts()"
      ],
      "metadata": {
        "id": "5-KgLPc557qJ"
      },
      "execution_count": null,
      "outputs": []
    },
    {
      "cell_type": "code",
      "source": [
        "df['Census_FlightRing'].value_counts()"
      ],
      "metadata": {
        "id": "BnnIfP6Q6Ji8"
      },
      "execution_count": null,
      "outputs": []
    },
    {
      "cell_type": "markdown",
      "source": [
        "###LIMPIEZA DE ATRIBUTOS"
      ],
      "metadata": {
        "id": "Kvmttz8J7X25"
      }
    },
    {
      "cell_type": "markdown",
      "source": [
        "###Ajuste de tipos"
      ],
      "metadata": {
        "id": "5Rdom5qA7qLf"
      }
    },
    {
      "cell_type": "code",
      "source": [
        "selec_id = [col1 for col1 in df if col1.find('Identifier')>=0]\n",
        "selec_id"
      ],
      "metadata": {
        "id": "3e3MiX8h7ta5"
      },
      "execution_count": null,
      "outputs": []
    },
    {
      "cell_type": "code",
      "source": [
        "df['DefaultBrowsersIdentifier'] = df['DefaultBrowsersIdentifier'].astype(object)"
      ],
      "metadata": {
        "id": "uigxwhYX7_Yb"
      },
      "execution_count": null,
      "outputs": []
    },
    {
      "cell_type": "code",
      "source": [
        "def transform (dataframe, column):\n",
        "  column.find('Identifier')\n",
        "  dataframe[column] = dataframe[column].astype(object)"
      ],
      "metadata": {
        "id": "Eek4Ipc88Kgs"
      },
      "execution_count": null,
      "outputs": []
    },
    {
      "cell_type": "code",
      "source": [
        "df['DefaultBrowsersIdentifier'] = transform(df, 'DefaultBrowsersIdentifier')"
      ],
      "metadata": {
        "id": "wyUmph5o9QXk"
      },
      "execution_count": null,
      "outputs": []
    },
    {
      "cell_type": "code",
      "source": [
        "df['DefaultBrowsersIdentifier'].describe()"
      ],
      "metadata": {
        "id": "_FPaoClc9hcn"
      },
      "execution_count": null,
      "outputs": []
    },
    {
      "cell_type": "code",
      "source": [
        "df['AVProductStatesIdentifier'] = transform(df, 'AVProductStatesIdentifier')"
      ],
      "metadata": {
        "id": "p634hq8U9yrI"
      },
      "execution_count": null,
      "outputs": []
    },
    {
      "cell_type": "code",
      "source": [
        "df['CountryIdentifier'] = transform(df, 'CountryIdentifier')"
      ],
      "metadata": {
        "id": "nOPvMqj79yk7"
      },
      "execution_count": null,
      "outputs": []
    },
    {
      "cell_type": "code",
      "source": [
        "df['Census_OEMNameIdentifier'] = transform(df, 'Census_OEMNameIdentifier')"
      ],
      "metadata": {
        "id": "gzNh1-L19yeT"
      },
      "execution_count": null,
      "outputs": []
    },
    {
      "cell_type": "code",
      "source": [
        "df['Census_OEMModelIdentifier'] = transform(df, 'Census_OEMModelIdentifier')"
      ],
      "metadata": {
        "id": "a_aTHp-W9yRK"
      },
      "execution_count": null,
      "outputs": []
    },
    {
      "cell_type": "code",
      "source": [
        "df['Census_OSUILocaleIdentifier'] = transform(df, 'Census_OSUILocaleIdentifier')"
      ],
      "metadata": {
        "id": "JE0zUTh8-KNu"
      },
      "execution_count": null,
      "outputs": []
    },
    {
      "cell_type": "code",
      "source": [
        "df['Wdft_RegionIdentifier'] = transform(df, 'Wdft_RegionIdentifier')"
      ],
      "metadata": {
        "id": "2n7hIsB2-J9O"
      },
      "execution_count": null,
      "outputs": []
    },
    {
      "cell_type": "markdown",
      "source": [
        "He transformado los id en objeto para luego volver a generalos a numericos"
      ],
      "metadata": {
        "id": "WWlVg4W_-TEc"
      }
    },
    {
      "cell_type": "code",
      "source": [
        "df.info(verbose = True)"
      ],
      "metadata": {
        "id": "nOFlrjV--rmB"
      },
      "execution_count": null,
      "outputs": []
    },
    {
      "cell_type": "markdown",
      "source": [
        "###Imputar valores nulos"
      ],
      "metadata": {
        "id": "-oHsYyoI-_Zj"
      }
    },
    {
      "cell_type": "markdown",
      "source": [
        "Variables categoricas"
      ],
      "metadata": {
        "id": "YlHfociD_HA2"
      }
    },
    {
      "cell_type": "code",
      "source": [
        "df.select_dtypes(include = ['object']).isnull().sum() "
      ],
      "metadata": {
        "id": "5Krk0NoN_YvI"
      },
      "execution_count": null,
      "outputs": []
    },
    {
      "cell_type": "code",
      "source": [
        "df.drop([\"Census_ProcessorClass\"], axis=1, inplace=True) #--> elimino pq el 99% de valors que té, són nuls"
      ],
      "metadata": {
        "id": "vyzsYIbbAs6X"
      },
      "execution_count": null,
      "outputs": []
    },
    {
      "cell_type": "code",
      "source": [
        "df['OsBuildLab'].value_counts(dropna = False).head(10)"
      ],
      "metadata": {
        "id": "HO6zD5qs_iKv"
      },
      "execution_count": null,
      "outputs": []
    },
    {
      "cell_type": "code",
      "source": [
        "df['OsBuildLab'].fillna(value = \"zzzz\", inplace = True)"
      ],
      "metadata": {
        "id": "EGp1HRqt_CZn"
      },
      "execution_count": null,
      "outputs": []
    },
    {
      "cell_type": "code",
      "source": [
        "for i in df.select_dtypes(include = ['object']):\n",
        "    print(i, df[i].fillna(value = \"zzzz\", inplace = True))"
      ],
      "metadata": {
        "id": "hk3UZ0HMHioJ"
      },
      "execution_count": null,
      "outputs": []
    },
    {
      "cell_type": "markdown",
      "source": [
        "Variables numeriques"
      ],
      "metadata": {
        "id": "aXz3cHv3GOm6"
      }
    },
    {
      "cell_type": "code",
      "source": [
        "df.select_dtypes(include = ['number']).isnull().sum() "
      ],
      "metadata": {
        "id": "bVn-A07RGS-C"
      },
      "execution_count": null,
      "outputs": []
    },
    {
      "cell_type": "code",
      "source": [
        "for i in df.select_dtypes(include = ['number']):\n",
        "    print(i, df[i].fillna(value = -100, inplace = True))"
      ],
      "metadata": {
        "id": "ZT4rLxisG6Up"
      },
      "execution_count": null,
      "outputs": []
    },
    {
      "cell_type": "markdown",
      "source": [
        "**FREQUENCY ENCODING DE LAS VARIABLES QUE EN LA COLUMNA UNIQUE SON > 100**"
      ],
      "metadata": {
        "id": "Bqb1EkZt7FZ4"
      }
    },
    {
      "cell_type": "code",
      "source": [
        "freq_enc = ['AvSigVersion', 'OsBuildLab', 'Census_OSVersion']"
      ],
      "metadata": {
        "id": "_IkJCkka7JFf"
      },
      "execution_count": null,
      "outputs": []
    },
    {
      "cell_type": "code",
      "source": [
        "df_AvSigVersion_num = pd.DataFrame(df['AvSigVersion'].value_counts(dropna = False))# variable AvSigVersion"
      ],
      "metadata": {
        "id": "l50IWGOSKDnt"
      },
      "execution_count": null,
      "outputs": []
    },
    {
      "cell_type": "code",
      "source": [
        "df_AvSigVersion_num.columns = ['NUM_Versiones']"
      ],
      "metadata": {
        "id": "Rm1uZgKvKETm"
      },
      "execution_count": null,
      "outputs": []
    },
    {
      "cell_type": "code",
      "source": [
        "df_AvSigVersion_num['AvSigVersion'] = df_AvSigVersion_num.index"
      ],
      "metadata": {
        "id": "MkFc_irMKELV"
      },
      "execution_count": null,
      "outputs": []
    },
    {
      "cell_type": "code",
      "source": [
        "df_AvSigVersion_num.head(2)"
      ],
      "metadata": {
        "id": "8eeTBYrkKexR"
      },
      "execution_count": null,
      "outputs": []
    },
    {
      "cell_type": "code",
      "source": [
        "df = df.merge(df_AvSigVersion_num, on = 'AvSigVersion')"
      ],
      "metadata": {
        "id": "q8GVPQltKjus"
      },
      "execution_count": null,
      "outputs": []
    },
    {
      "cell_type": "code",
      "source": [
        "df.drop('AvSigVersion', axis = 1, inplace = True)"
      ],
      "metadata": {
        "id": "5QRnrMH2Ktv-"
      },
      "execution_count": null,
      "outputs": []
    },
    {
      "cell_type": "code",
      "source": [
        "df.head(5)"
      ],
      "metadata": {
        "id": "usXmtASoKwQb"
      },
      "execution_count": null,
      "outputs": []
    },
    {
      "cell_type": "code",
      "source": [
        "df_OsBuildLab_num = pd.DataFrame(df['OsBuildLab'].value_counts(dropna = False))# variable OsBuildLab"
      ],
      "metadata": {
        "id": "Y_HNLEvCK21z"
      },
      "execution_count": null,
      "outputs": []
    },
    {
      "cell_type": "code",
      "source": [
        "df_OsBuildLab_num.columns = ['NUM_build']"
      ],
      "metadata": {
        "id": "am_-_1QBK6mP"
      },
      "execution_count": null,
      "outputs": []
    },
    {
      "cell_type": "code",
      "source": [
        "df_OsBuildLab_num['OsBuildLab'] = df_OsBuildLab_num.index"
      ],
      "metadata": {
        "id": "hG9zvaYoK6ef"
      },
      "execution_count": null,
      "outputs": []
    },
    {
      "cell_type": "code",
      "source": [
        "df_OsBuildLab_num.head(2)"
      ],
      "metadata": {
        "id": "ZxPmZghUK6Vz"
      },
      "execution_count": null,
      "outputs": []
    },
    {
      "cell_type": "code",
      "source": [
        "df = df.merge(df_OsBuildLab_num, on = 'OsBuildLab')"
      ],
      "metadata": {
        "id": "ZaujFx1TK6Ny"
      },
      "execution_count": null,
      "outputs": []
    },
    {
      "cell_type": "code",
      "source": [
        "df.drop('OsBuildLab', axis = 1, inplace = True)"
      ],
      "metadata": {
        "id": "ypM5LKLEK6Dq"
      },
      "execution_count": null,
      "outputs": []
    },
    {
      "cell_type": "code",
      "source": [
        "df_Census_OSVersion_num = pd.DataFrame(df['Census_OSVersion'].value_counts(dropna = False))# variable Census_OSVersion"
      ],
      "metadata": {
        "id": "wWfFAg75LUoY"
      },
      "execution_count": null,
      "outputs": []
    },
    {
      "cell_type": "code",
      "source": [
        "df_Census_OSVersion_num.columns = ['census_versiones']"
      ],
      "metadata": {
        "id": "WeX056WqLUfn"
      },
      "execution_count": null,
      "outputs": []
    },
    {
      "cell_type": "code",
      "source": [
        "df_Census_OSVersion_num['Census_OSVersion'] = df_Census_OSVersion_num.index"
      ],
      "metadata": {
        "id": "Cqt9UR1aLUYQ"
      },
      "execution_count": null,
      "outputs": []
    },
    {
      "cell_type": "code",
      "source": [
        "df_Census_OSVersion_num.head(2)"
      ],
      "metadata": {
        "id": "FcdGRFw4LUQ0"
      },
      "execution_count": null,
      "outputs": []
    },
    {
      "cell_type": "code",
      "source": [
        "df = df.merge(df_Census_OSVersion_num, on = 'Census_OSVersion')"
      ],
      "metadata": {
        "id": "HfExsOXfLUIn"
      },
      "execution_count": null,
      "outputs": []
    },
    {
      "cell_type": "code",
      "source": [
        "df.drop('Census_OSVersion', axis = 1, inplace = True)"
      ],
      "metadata": {
        "id": "hKN4OnwBLT-t"
      },
      "execution_count": null,
      "outputs": []
    },
    {
      "cell_type": "code",
      "source": [
        "df.head(2)"
      ],
      "metadata": {
        "id": "ZMbnmSzPMMA2"
      },
      "execution_count": null,
      "outputs": []
    },
    {
      "cell_type": "markdown",
      "source": [
        "**ONE HOT ENCODING**"
      ],
      "metadata": {
        "id": "u83la_s8MZmF"
      }
    },
    {
      "cell_type": "code",
      "source": [
        "df.describe(exclude=np.number).T"
      ],
      "metadata": {
        "id": "0S4WZ54LN6C7"
      },
      "execution_count": null,
      "outputs": []
    },
    {
      "cell_type": "code",
      "source": [
        "df.info(verbose = True)"
      ],
      "metadata": {
        "id": "9IHaV4dMRrdJ"
      },
      "execution_count": null,
      "outputs": []
    },
    {
      "cell_type": "code",
      "source": [
        "df.drop(['DefaultBrowsersIdentifier', 'AVProductStatesIdentifier', 'CountryIdentifier', 'Census_OEMNameIdentifier', 'Census_OEMModelIdentifier', 'Census_OSUILocaleIdentifier', 'Wdft_RegionIdentifier'], axis = 1, inplace = True)"
      ],
      "metadata": {
        "id": "A1ulqMJ5QiAt"
      },
      "execution_count": null,
      "outputs": []
    },
    {
      "cell_type": "code",
      "source": [
        "def generate_dummies(dataframe, column_name):\n",
        "    _dummy_dataset = pd.get_dummies(dataframe[column_name], prefix=column_name)\n",
        "    dataframe = pd.concat([dataframe, _dummy_dataset], axis=1)\n",
        "    return dataframe.drop(column_name, axis=1)"
      ],
      "metadata": {
        "id": "Cl8HifWFMeHm"
      },
      "execution_count": null,
      "outputs": []
    },
    {
      "cell_type": "code",
      "source": [
        "for column in df.select_dtypes(exclude=np.number).columns:\n",
        "    df = generate_dummies(df, column)"
      ],
      "metadata": {
        "id": "NRAlHQdhSJzw"
      },
      "execution_count": null,
      "outputs": []
    },
    {
      "cell_type": "code",
      "source": [
        "df.info(verbose = False)"
      ],
      "metadata": {
        "id": "ry6R0wrSSPi4"
      },
      "execution_count": null,
      "outputs": []
    },
    {
      "cell_type": "markdown",
      "source": [
        "###MODELLING"
      ],
      "metadata": {
        "id": "PzMvcTISSYBX"
      }
    },
    {
      "cell_type": "code",
      "source": [
        "df['NUM_Versiones'].value_counts()"
      ],
      "metadata": {
        "id": "PqGnFJ5wcEBF"
      },
      "execution_count": null,
      "outputs": []
    },
    {
      "cell_type": "code",
      "source": [
        "df.head(2).T"
      ],
      "metadata": {
        "id": "h_3_orTlajXX"
      },
      "execution_count": null,
      "outputs": []
    },
    {
      "cell_type": "code",
      "source": [
        "df.columns"
      ],
      "metadata": {
        "id": "KOPN_bWSaosN"
      },
      "execution_count": null,
      "outputs": []
    },
    {
      "cell_type": "code",
      "source": [
        "df.pivot_table(index = ['NUM_Versiones'], values = TARGET, aggfunc = [len, sum, np.mean])"
      ],
      "metadata": {
        "id": "5CbKvspbZ263"
      },
      "execution_count": null,
      "outputs": []
    },
    {
      "cell_type": "code",
      "source": [
        "dev_df = df[(df['NUM_Versiones'] <= 517)]#development = train + test\n",
        "val_df = df[(df['NUM_Versiones'] >= 517)]# validation"
      ],
      "metadata": {
        "id": "AlOvBlKlZ-Da"
      },
      "execution_count": null,
      "outputs": []
    },
    {
      "cell_type": "code",
      "source": [
        "df['NUM_Versiones'].describe()"
      ],
      "metadata": {
        "id": "teCfQU9FoSr_"
      },
      "execution_count": null,
      "outputs": []
    },
    {
      "cell_type": "code",
      "source": [
        "dev_df.shape"
      ],
      "metadata": {
        "id": "VwGMsGuzono1"
      },
      "execution_count": null,
      "outputs": []
    },
    {
      "cell_type": "code",
      "source": [
        "val_df.shape"
      ],
      "metadata": {
        "id": "7A04CYvwq1f-"
      },
      "execution_count": null,
      "outputs": []
    },
    {
      "cell_type": "markdown",
      "source": [
        "Diferenciar entre lo que son atributos y lo que no lo es y se realiza tanto el parte del development y del validation"
      ],
      "metadata": {
        "id": "EBtfSM5ZzFSl"
      }
    },
    {
      "cell_type": "code",
      "source": [
        "dev_df_X = dev_df.drop('HasDetections', axis=1) #--> todos los predictores que tengo \n",
        "dev_df_y = dev_df[['HasDetections']] # vector"
      ],
      "metadata": {
        "id": "Tbf3r6JzrDO0"
      },
      "execution_count": null,
      "outputs": []
    },
    {
      "cell_type": "code",
      "source": [
        "val_df_X = val_df.drop('HasDetections', axis=1)\n",
        "val_df_y = val_df[['HasDetections']]"
      ],
      "metadata": {
        "id": "GGuceZIsrLli"
      },
      "execution_count": null,
      "outputs": []
    },
    {
      "cell_type": "code",
      "source": [
        "dev_df_X.head().T"
      ],
      "metadata": {
        "id": "Ly3T9o0HrPcK"
      },
      "execution_count": null,
      "outputs": []
    },
    {
      "cell_type": "code",
      "source": [
        "dev_df_y.head().T"
      ],
      "metadata": {
        "id": "g_schI-grRsx"
      },
      "execution_count": null,
      "outputs": []
    },
    {
      "cell_type": "markdown",
      "source": [
        "###Random Holdout : seleccionar entre train y test, esta division es aleatoria"
      ],
      "metadata": {
        "id": "rG9sRkEdrYpG"
      }
    },
    {
      "cell_type": "code",
      "source": [
        "X_train, X_test, y_train, y_test = model_selection.train_test_split(\n",
        "                                        dev_df_X, # X \n",
        "                                        dev_df_y, # y\n",
        "                                        test_size = 0.30, # proporcion que queremos para train y test\n",
        "                                        random_state = 42\n",
        "                                     )"
      ],
      "metadata": {
        "id": "ZOMlYVfxrbdC"
      },
      "execution_count": null,
      "outputs": []
    },
    {
      "cell_type": "code",
      "source": [
        "X_train.info(verbose=False) # tenemos 175219 filas"
      ],
      "metadata": {
        "id": "xZQaMxAErhHA"
      },
      "execution_count": null,
      "outputs": []
    },
    {
      "cell_type": "code",
      "source": [
        "X_test.info(verbose=False) # tenemos 75094 filas "
      ],
      "metadata": {
        "id": "z_zpcLmRrh-P"
      },
      "execution_count": null,
      "outputs": []
    },
    {
      "cell_type": "code",
      "source": [
        "X_train.describe().T.head()"
      ],
      "metadata": {
        "id": "bnMSE-o-rh4R"
      },
      "execution_count": null,
      "outputs": []
    },
    {
      "cell_type": "code",
      "source": [
        "X_test.describe().T.head()"
      ],
      "metadata": {
        "id": "ZCMBmkrmrh1M"
      },
      "execution_count": null,
      "outputs": []
    },
    {
      "cell_type": "code",
      "source": [
        "y_train.describe().T.head()"
      ],
      "metadata": {
        "id": "GvdFe8rXrhw3"
      },
      "execution_count": null,
      "outputs": []
    },
    {
      "cell_type": "code",
      "source": [
        "y_test.describe().T.head()"
      ],
      "metadata": {
        "id": "FFuQW07XrhtO"
      },
      "execution_count": null,
      "outputs": []
    },
    {
      "cell_type": "markdown",
      "source": [
        "###Entrenamiento del modelo"
      ],
      "metadata": {
        "id": "wy4I_boo6a48"
      }
    },
    {
      "cell_type": "markdown",
      "source": [
        "1. **Importar los scikits de la modelizacion**"
      ],
      "metadata": {
        "id": "kc21y10br2vd"
      }
    },
    {
      "cell_type": "code",
      "source": [
        "!conda install python-graphviz -y"
      ],
      "metadata": {
        "id": "EfH7osD1rhj0"
      },
      "execution_count": null,
      "outputs": []
    },
    {
      "cell_type": "code",
      "source": [
        "!conda install pydot -y"
      ],
      "metadata": {
        "id": "J0wXViavscfB"
      },
      "execution_count": null,
      "outputs": []
    },
    {
      "cell_type": "code",
      "source": [
        "from sklearn.tree import DecisionTreeClassifier\n",
        "from sklearn.tree import export_graphviz\n",
        "import graphviz\n",
        "\n",
        "\n",
        "from sklearn import metrics\n",
        "from sklearn import model_selection\n"
      ],
      "metadata": {
        "id": "cXeh4AdDsekV"
      },
      "execution_count": null,
      "outputs": []
    },
    {
      "cell_type": "markdown",
      "source": [
        "2. **Instanciar el modelo**: decidimo aplicar el modelo de decision tree clasifier porque el targuet es categorico y dicotomic. Seleccionamos los parametros de max_depth y random_state."
      ],
      "metadata": {
        "id": "_Ili5t25wcKg"
      }
    },
    {
      "cell_type": "code",
      "source": [
        "dt = DecisionTreeClassifier(\n",
        "                        # criterion='gini',\n",
        "                        # splitter='best',\n",
        "                        max_depth=8, # Importante, regulará el sobreajuste y es el nº de preguntas\n",
        "                        # min_samples_split=2,\n",
        "                        # min_samples_leaf=1,\n",
        "                        # min_weight_fraction_leaf=0.0,\n",
        "                        # max_features=None,\n",
        "                        random_state=42,\n",
        "                        # max_leaf_nodes=None,\n",
        "                        # min_impurity_decrease=0.0,\n",
        "                        # min_impurity_split=None,\n",
        "                        # class_weight=None,\n",
        "                        # presort=False,  \n",
        "                )"
      ],
      "metadata": {
        "id": "dPCvUrIwsnsx"
      },
      "execution_count": null,
      "outputs": []
    },
    {
      "cell_type": "markdown",
      "source": [
        "3.**Entrenar el modelo**"
      ],
      "metadata": {
        "id": "VyzrnxfCzBn5"
      }
    },
    {
      "cell_type": "code",
      "source": [
        "dt.fit(\n",
        "    X=X_train, \n",
        "    y=y_train, \n",
        "    # sample_weight=None, \n",
        "    # check_input=True, \n",
        "    # X_idx_sorted=None\n",
        ")"
      ],
      "metadata": {
        "id": "QrhspJijsr6I"
      },
      "execution_count": null,
      "outputs": []
    },
    {
      "cell_type": "code",
      "source": [
        "dot_data = export_graphviz(\n",
        "                        decision_tree = dt,# important\n",
        "                        out_file=None, #important\n",
        "                        # max_depth=None,\n",
        "                        feature_names=X_test.columns, # important\n",
        "                        class_names=['No malware', 'Yes malware'], # important\n",
        "                        # label='all',\n",
        "                        filled=True,\n",
        "                        # leaves_parallel=False,\n",
        "                        impurity=True,\n",
        "                        # node_ids=False,\n",
        "                        proportion=True,\n",
        "                        rotate=True,\n",
        "                        rounded=True,\n",
        "                        # special_characters=False,\n",
        "                        precision=4,\n",
        "                        )"
      ],
      "metadata": {
        "id": "59n7i_hUsyc2"
      },
      "execution_count": null,
      "outputs": []
    },
    {
      "cell_type": "code",
      "source": [
        " graphviz.Source(dot_data) # generación del arbol"
      ],
      "metadata": {
        "id": "JOlk_AlRtBaH"
      },
      "execution_count": null,
      "outputs": []
    },
    {
      "cell_type": "markdown",
      "source": [
        "1.4 **Evaluar el modelo**"
      ],
      "metadata": {
        "id": "oAdRygkZAc87"
      }
    },
    {
      "cell_type": "code",
      "source": [
        "y_test_pred = pd.DataFrame(dt.predict(X_test), index = y_test.index, columns =['Malware Prediction']) #amb threshold del 0.5 y evaluar el modelo sobre el test. Mantengo el index del dt del test"
      ],
      "metadata": {
        "id": "0mbuTnNvAvNh"
      },
      "execution_count": null,
      "outputs": []
    },
    {
      "cell_type": "code",
      "source": [
        "results_df = y_test.join(y_test_pred) # aqui vemos lo que hay con lo que yo he predecido."
      ],
      "metadata": {
        "id": "fOrLev3hCGlu"
      },
      "execution_count": null,
      "outputs": []
    },
    {
      "cell_type": "code",
      "source": [
        "results_df.head(10)"
      ],
      "metadata": {
        "id": "UcinpExzChuw"
      },
      "execution_count": null,
      "outputs": []
    },
    {
      "cell_type": "code",
      "source": [
        "results_df['succes'] = (results_df['HasDetections'] == results_df['Malware Prediction']).astype(int)"
      ],
      "metadata": {
        "id": "RBaRK7RvC3xM"
      },
      "execution_count": null,
      "outputs": []
    },
    {
      "cell_type": "code",
      "source": [
        "results_df['succes'].mean()  #Accuracy "
      ],
      "metadata": {
        "id": "1VoxTDt3Duu-"
      },
      "execution_count": null,
      "outputs": []
    },
    {
      "cell_type": "markdown",
      "source": [
        "Esto es el Accuracy y podemos ver que el 62,48% són aciertos. Tenemos en cuenta que este dataset está balanceado de modo que se ha fijado tanto en los unos y  los 0 y por ello, creo que el modelo se ajusta bastante a toda la muestra. "
      ],
      "metadata": {
        "id": "lh2LbcFhFF_U"
      }
    },
    {
      "cell_type": "markdown",
      "source": [
        "Comprovamos el resultado con la matriz de confusión"
      ],
      "metadata": {
        "id": "RnCasIV8F_ZL"
      }
    },
    {
      "cell_type": "code",
      "source": [
        "confussion_matrix = pd.crosstab(results_df['HasDetections'], results_df['Malware Prediction'])"
      ],
      "metadata": {
        "id": "f02llvOiGye2"
      },
      "execution_count": null,
      "outputs": []
    },
    {
      "cell_type": "code",
      "source": [
        "confussion_matrix"
      ],
      "metadata": {
        "id": "lopEqGwNHTd4"
      },
      "execution_count": null,
      "outputs": []
    },
    {
      "cell_type": "markdown",
      "source": [
        "Con la matriz podemos revisar si tendemos a la clase mayoriatria o no. En este caso predigo la cantidad de 41514 de 0 y en cambio, 33581 que predigo 1. Vemos con más detalle que el modelo tiende a tener un poco más en cuenta los 0 que los 1 pero de manera leve. \n"
      ],
      "metadata": {
        "id": "SE5aZhPSIiu2"
      }
    },
    {
      "cell_type": "code",
      "source": [
        "TN = confussion_matrix.iloc[0,0]\n",
        "FP = confussion_matrix.iloc[0,1]\n",
        "FN = confussion_matrix.iloc[1,0]\n",
        "TP = confussion_matrix.iloc[1,1]"
      ],
      "metadata": {
        "id": "2T5VD0aeLffR"
      },
      "execution_count": null,
      "outputs": []
    },
    {
      "cell_type": "code",
      "source": [
        "accuracy = (TN + TP)/ (TN+TP+FN+FP)# da lo mismo que el accuracy que he fet més a dalt."
      ],
      "metadata": {
        "id": "kEMILnwjMZR7"
      },
      "execution_count": null,
      "outputs": []
    },
    {
      "cell_type": "code",
      "source": [
        "accuracy"
      ],
      "metadata": {
        "id": "KtWu8ZAHMW-g"
      },
      "execution_count": null,
      "outputs": []
    },
    {
      "cell_type": "code",
      "source": [
        "dt.score(X_test, y_test) # --> manera més rapida de fer el accuracy"
      ],
      "metadata": {
        "id": "OuINoqzGteZx"
      },
      "execution_count": null,
      "outputs": []
    },
    {
      "cell_type": "markdown",
      "source": [
        "1.5  **Predicción probabilistica**"
      ],
      "metadata": {
        "id": "STO_y1zQNa07"
      }
    },
    {
      "cell_type": "code",
      "source": [
        "dt.predict_proba(X_test)# nos muestra un array con la probabilidad de 0 y la probabilidad de 1. Me quedo sólo con la probabilidad de uno"
      ],
      "metadata": {
        "id": "CwPry-MNNgdu"
      },
      "execution_count": null,
      "outputs": []
    },
    {
      "cell_type": "code",
      "source": [
        "(dt.predict_proba(X_test)[:,1])"
      ],
      "metadata": {
        "id": "bPGbJEgdN4Gl"
      },
      "execution_count": null,
      "outputs": []
    },
    {
      "cell_type": "markdown",
      "source": [
        "Tenir en compte que la probabilitat es del 50% per tant si es major a 0.5 será un 1 i si es inferior serà un 0. Per exemple el primer valor de 0.6852 es un 1 i en canvi, el valor de 0.3521 es un 0. "
      ],
      "metadata": {
        "id": "eBSqw0vvOJ6Z"
      }
    },
    {
      "cell_type": "code",
      "source": [
        "y_score = pd.DataFrame(dt.predict_proba(X_test)[:,1], index = y_test.index, columns = ['Malware Score'])"
      ],
      "metadata": {
        "id": "FTnLRPHgi3Hj"
      },
      "execution_count": null,
      "outputs": []
    },
    {
      "cell_type": "code",
      "source": [
        "y_score"
      ],
      "metadata": {
        "id": "QK0FdkxIjRDH"
      },
      "execution_count": null,
      "outputs": []
    },
    {
      "cell_type": "code",
      "source": [
        "y_score.nunique() #--> crec que no es correcte, hauria de sortir 8 ja que he demanat 8 preguntes al model. No sé on està l'error.  "
      ],
      "metadata": {
        "id": "cMdJdCckl7b5"
      },
      "execution_count": null,
      "outputs": []
    },
    {
      "cell_type": "code",
      "source": [
        "results_df = results_df.join(y_score)"
      ],
      "metadata": {
        "id": "Q_8f548wjYhs"
      },
      "execution_count": null,
      "outputs": []
    },
    {
      "cell_type": "code",
      "source": [
        "results_df"
      ],
      "metadata": {
        "id": "j4kjpbNbjlcY"
      },
      "execution_count": null,
      "outputs": []
    },
    {
      "cell_type": "markdown",
      "source": [
        "**F1 SCORE**"
      ],
      "metadata": {
        "id": "38BlL8l-j8u6"
      }
    },
    {
      "cell_type": "code",
      "source": [
        "metrics.f1_score(y_test, y_test_pred)"
      ],
      "metadata": {
        "id": "mETLu__slMuF"
      },
      "execution_count": null,
      "outputs": []
    },
    {
      "cell_type": "markdown",
      "source": [
        "Té un score del 54%. Es prou significatiu de que el model ajusta. "
      ],
      "metadata": {
        "id": "1OP4Ddc9nZiO"
      }
    },
    {
      "cell_type": "markdown",
      "source": [
        "**AUC**"
      ],
      "metadata": {
        "id": "ccxd7a33mom-"
      }
    },
    {
      "cell_type": "code",
      "source": [
        "from sklearn.metrics import roc_curve\n",
        "from sklearn.metrics import roc_auc_score"
      ],
      "metadata": {
        "id": "UMRjuyRxocrC"
      },
      "execution_count": null,
      "outputs": []
    },
    {
      "cell_type": "code",
      "source": [
        "metrics.roc_auc_score(results_df['HasDetections'], results_df['Malware Score'])"
      ],
      "metadata": {
        "id": "cLHXq9oUm3Nv"
      },
      "execution_count": null,
      "outputs": []
    },
    {
      "cell_type": "markdown",
      "source": [
        "El AUC es del 67%, està per sobre del 50% però es un model que ajusta molt poc."
      ],
      "metadata": {
        "id": "tet3dCeUpQum"
      }
    },
    {
      "cell_type": "code",
      "source": [
        "frp, tpr, th = metrics.roc_curve(results_df['HasDetections'], results_df['Malware Score'])#--> no entenc pq em surt un array tan gran. "
      ],
      "metadata": {
        "id": "YZGgLF52pqBd"
      },
      "execution_count": null,
      "outputs": []
    },
    {
      "cell_type": "code",
      "source": [
        "frp  "
      ],
      "metadata": {
        "id": "OSbmaeZPp72V"
      },
      "execution_count": null,
      "outputs": []
    },
    {
      "cell_type": "code",
      "source": [
        "tpr"
      ],
      "metadata": {
        "id": "rGx5wPpDrec4"
      },
      "execution_count": null,
      "outputs": []
    },
    {
      "cell_type": "code",
      "source": [
        "th"
      ],
      "metadata": {
        "id": "m8ntChG0reSu"
      },
      "execution_count": null,
      "outputs": []
    },
    {
      "cell_type": "code",
      "source": [
        "plt.plot(frp, tpr)\n",
        "plt.plot([0,1], [0,1])"
      ],
      "metadata": {
        "id": "xE8SidmOruyL"
      },
      "execution_count": null,
      "outputs": []
    },
    {
      "cell_type": "markdown",
      "source": [
        "**Comprovar si hay overtiffing**"
      ],
      "metadata": {
        "id": "y6H-eg-AtVVu"
      }
    },
    {
      "cell_type": "code",
      "source": [
        "for i in range(1,15) :\n",
        " dt_overfit = DecisionTreeClassifier(max_depth = i, random_state = 42)\n",
        " dt_overfit.fit(X_train, y_train)\n",
        " acc_test = dt_overfit.score(X_test, y_test)\n",
        " acc_train = dt_overfit.score(X_train, y_train)\n",
        "\n",
        " print(f'El modelo se entrena con una profundidad de {i} preguntas')\n",
        " print(f' La accuracy del modelo en train es {np.round(acc_train,4)}, en test es {np.round(acc_test,4)}')\n",
        " print(f' La diferencia es de {np.round(acc_train-acc_test, 4)}')\n",
        " print('_________________________________________________________________')"
      ],
      "metadata": {
        "id": "UhhgqQKUtU8P"
      },
      "execution_count": null,
      "outputs": []
    },
    {
      "cell_type": "markdown",
      "source": [
        "Com més preguntes li fem al model el train augmenta, en canvi el test baixa, de manera que si afegissim més preguntes el train s'adaptaria molt més al model generant overfitting. \n",
        "\n",
        "En aquest cas, s'observa que tan el train com el test es mantenent més o menys amb el mateix percentatge, tot i que hi ha una diferencia significativa entre la 7 i 11 pregunta, ja que entre la diferència de train i test comença a augmentar, \n",
        "Aleshores, al model, com a màxim seria bo fer-li 11 preguntes per deixar la flexibilitat justa i que no generes l'overfitting. \n",
        "\n"
      ],
      "metadata": {
        "id": "BsrLwCMWvXFi"
      }
    },
    {
      "cell_type": "code",
      "source": [
        ""
      ],
      "metadata": {
        "id": "306UqMJnzZWZ"
      },
      "execution_count": null,
      "outputs": []
    }
  ]
}